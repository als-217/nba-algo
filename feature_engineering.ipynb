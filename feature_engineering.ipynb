{
 "cells": [
  {
   "cell_type": "code",
   "execution_count": 2,
   "id": "67282401",
   "metadata": {},
   "outputs": [],
   "source": [
    "import pandas as pd\n",
    "import numpy as np\n",
    "from pathlib import Path\n",
    "import pathlib\n",
    "import glob\n",
    "import os\n",
    "import sys\n",
    "import re\n",
    "sys.path.append('../Data_Collection_Cleaning/')\n",
    "from data_collection import get_season_lineups\n",
    "from data_collection import match_past_raptor\n",
    "from data_collection import isLatin\n",
    "from unidecode import unidecode"
   ]
  },
  {
   "cell_type": "code",
   "execution_count": 2,
   "id": "a3fd620e",
   "metadata": {},
   "outputs": [],
   "source": [
    "# This function gives a ranking for a team's offense and defense when they are home and when they are away.\n",
    "\n",
    "def stat_ranking(df, index, stat_type, season, off_def, home_away):\n",
    "    column = list(df.columns).index(home_away)\n",
    "    data = df[df['Season'] == season]\n",
    "    data.reset_index(inplace=True, drop=True)\n",
    "    team = data.iloc[index, column]\n",
    "    previous_rows = data.iloc[:index]\n",
    "    \n",
    "    if off_def == 'off':\n",
    "        reverse_val = True\n",
    "    elif off_def == 'def':\n",
    "        reverse_val = False\n",
    "        \n",
    "    averages = sorted([(item[stat_type].mean(), item[home_away].iloc[0]) for key, item in previous_rows.groupby([home_away])],\n",
    "                      key=lambda x: x[0], reverse=reverse_val)\n",
    "    try:\n",
    "        return int([x[1] for x in averages].index(team) + 1)\n",
    "    except:\n",
    "        return None"
   ]
  },
  {
   "cell_type": "code",
   "execution_count": 3,
   "id": "1f662f28",
   "metadata": {},
   "outputs": [],
   "source": [
    "# This function gives a ranking for a team's offense and defense including both home and away games.\n",
    "\n",
    "def total_ranking(df, index, season, off_def, home_away):\n",
    "    data = df[df['Season'] == season]\n",
    "    data.reset_index(inplace=True, drop=True)\n",
    "    previous_rows = data.iloc[:index]\n",
    "    team_stats = [dict(stats=previous_rows[(previous_rows['HomeTeam'] == team) | (previous_rows['XXAwayTeam'] == team)],\n",
    "                       team_name=team) for team in teams]\n",
    "    current_team = data.iloc[index, home_away]\n",
    "    \n",
    "    if off_def == 'off':\n",
    "        reverse_val = True\n",
    "        stat_1, stat_2 = 'Points', 'XXPoints'\n",
    "    elif off_def == 'def':\n",
    "        reverse_val = False\n",
    "        stat_1, stat_2 = 'XXPoints', 'Points'\n",
    "      \n",
    "    averages = []\n",
    "    for club in team_stats:\n",
    "        total_pts = 0\n",
    "        for idx, row in club['stats'].iterrows():\n",
    "            if row['HomeTeam'] == club['team_name']:\n",
    "                total_pts += row[stat_1]\n",
    "            elif row['XXAwayTeam'] == club['team_name']:\n",
    "                total_pts += row[stat_2]\n",
    "        \n",
    "        try: \n",
    "            averages.append(dict(avg=total_pts/len(club['stats']), team_name=club['team_name']))\n",
    "        except:\n",
    "            return None\n",
    "        \n",
    "    averages = sorted(averages, key=lambda x: x['avg'], reverse=reverse_val)\n",
    "    \n",
    "    return [i for i, v in enumerate(averages) if current_team in v.values()][0] + 1"
   ]
  },
  {
   "cell_type": "code",
   "execution_count": 4,
   "id": "94e9c249",
   "metadata": {},
   "outputs": [],
   "source": [
    "def sched_stren(df, index, home_away):\n",
    "    team = df.iloc[index, home_away]\n",
    "    subset = df.iloc[:index]\n",
    "    subset = subset[(subset['Team'] == team) | (subset['XXTeam'] == team)]\n",
    "    # The next line gets all the games the team played against a top 10 defensive team and how many points they scored in those games.\n",
    "    try:\n",
    "        pts_for = pd.concat([subset[(subset['XXTotalDefRank'] <= 10) & (subset['Team'] == team)]['Temp'], subset[(subset['TotalDefRank'] <= 10) & (subset['XXTeam'] == team)]['XXTemp']])\n",
    "        avg_pts_for = pts_for.mean()\n",
    "        games_for = subset.loc[pts_for.index.values]\n",
    "        win_pct_for = len(games_for[((games_for['Team'] == team) & (games_for['W_L'] == 1)) | ((games_for['XXTeam'] == team) & (games_for['XXW_L'] == 1))]) / len(games_for)\n",
    "        pts_against = pd.concat([subset[(subset['XXTotalOffRank'] <= 10) & (subset['Team'] == team)]['Temp'], subset[(subset['TotalOffRank'] <= 10) & (subset['XXTeam'] == team)]['XXTemp']])\n",
    "        avg_pts_against = pts_against.mean()\n",
    "        games_against = subset.loc[pts_against.index.values]\n",
    "        win_pct_against = len(games_against[((games_against['Team'] == team) & (games_against['W_L'] == 1)) | ((games_against['XXTeam'] == team) & (games_against['XXW_L'] == 1))]) / len(games_against)\n",
    "        \n",
    "        return [avg_pts_for, win_pct_for, avg_pts_against, win_pct_against]\n",
    "    \n",
    "    except:\n",
    "        return [None, None, None, None]"
   ]
  },
  {
   "cell_type": "code",
   "execution_count": 5,
   "id": "406519e9",
   "metadata": {},
   "outputs": [],
   "source": [
    "def win_pct(df, index, home_away, quantile):\n",
    "    team = df.iloc[index, home_away]\n",
    "    subset = df.iloc[:index]\n",
    "    try:\n",
    "        if home_away == 4:\n",
    "            opponent = df.iloc[index, 129]\n",
    "            games = subset[(subset['Team'] == team) | (subset['XXTeam'] == team)]\n",
    "            win_pct = len(games[(games['Team'] == team) & (games['W_L'] == 1)]) / len(games[games['Team'] == team])\n",
    "            opp_games = subset[(subset['Team'] == opponent) | (subset['XXTeam'] == opponent)]\n",
    "            \n",
    "        elif home_away == 129:\n",
    "            opponent = df.iloc[index, 4]\n",
    "            games = subset[(subset['Team'] == team) | (subset['XXTeam'] == team)]\n",
    "            win_pct = len(games[(games['XXTeam'] == team) & (games['XXW_L'] == 1)]) / len(games[games['XXTeam'] == team])\n",
    "            opp_games = subset[(subset['Team'] == opponent) | (subset['XXTeam'] == opponent)]\n",
    "            \n",
    "        pt_dif_vs_opp = opp_games[opp_games['Team'] == team]['Temp'].sum() + opp_games[opp_games['XXTeam'] == team]['XXTemp'].sum() - games[games['Team'] == opponent]['Temp'].sum() - games[games['XXTeam'] == opponent]['XXTemp'].sum()\n",
    "        l5 = games.iloc[-5:]\n",
    "        away_games_l5 = len(l5[l5['XXTeam'] == team])\n",
    "        pt_dif_vs_topx = games[(games['Team'] == team) & (games['XXElo'] >= subset['XXElo'].quantile(quantile))]['Temp'].sum() + games[(games['XXTeam'] == team) & (games['Elo'] >= subset['Elo'].quantile(quantile))]['XXTemp'].sum() - games[(games['Team'] == team) & (games['XXElo'] >= subset['XXElo'].quantile(quantile))]['XXTemp'].sum() -  games[(games['XXTeam'] == team) & (games['Elo'] >= subset['Elo'].quantile(quantile))]['Temp'].sum()\n",
    "    \n",
    "        return [win_pct, pt_dif_vs_opp, away_games_l5, pt_dif_vs_topx]\n",
    "    except:\n",
    "        return [None, None, None, None]"
   ]
  },
  {
   "cell_type": "code",
   "execution_count": 8,
   "id": "8ed14e41",
   "metadata": {},
   "outputs": [],
   "source": [
    "data = pd.read_csv(str(Path.cwd()) + '/lineup_data/cleanData.csv')\n",
    "teams = data.loc[:, 'HomeTeam'].unique()\n",
    "seasons = ['13-14', '14-15', '15-16', '16-17', '17-18', '18-19', '19-20', '20-21', '21-22']"
   ]
  },
  {
   "cell_type": "code",
   "execution_count": 10,
   "id": "784d6fd1",
   "metadata": {},
   "outputs": [],
   "source": [
    "final = pd.read_csv(str(Path.cwd()) + '/lineup_data/averagesFinal.csv')\n",
    "final = final.assign(Temp=data['Points'], XXTemp=data['XXPoints'])"
   ]
  },
  {
   "cell_type": "code",
   "execution_count": 11,
   "id": "e5f51f22",
   "metadata": {},
   "outputs": [],
   "source": [
    "final_by_season = [final[final['Season'] == season] for season in seasons]\n",
    "data_by_season = [data[data['Season'] == season] for season in seasons]"
   ]
  },
  {
   "cell_type": "code",
   "execution_count": 12,
   "id": "42b067e8",
   "metadata": {},
   "outputs": [],
   "source": [
    "for idx, df in enumerate(final_by_season):\n",
    "    # Adds home team's offense ranking when at home\n",
    "    # Adds home team's defense ranking while away\n",
    "    # Adds away team's offense ranking when at home\n",
    "    # Adds away team's defense ranking while away\n",
    "    final_by_season[idx] = df.assign(OffRank=[stat_ranking(\n",
    "        data, index, 'Points', seasons[idx], 'off', 'HomeTeam') for index in range(len(df))],\n",
    "                                    DefRank=[stat_ranking(\n",
    "        data, index, 'XXPoints', seasons[idx], 'def', 'HomeTeam') for index in range(len(df))],\n",
    "                                    XXOffRank=[stat_ranking(\n",
    "        data, index, 'XXPoints', seasons[idx], 'off', 'XXAwayTeam') for index in range(len(df))],\n",
    "                                    XXDefRank=[stat_ranking(\n",
    "        data, index, 'Points', seasons[idx], 'def', 'XXAwayTeam') for index in range(len(df))])\n",
    "    \n",
    "    final_by_season[idx]['W_L'] = np.where(data_by_season[idx]['Points'] > data_by_season[idx]['XXPoints'], 1, 0)\n",
    "    final_by_season[idx]['XXW_L'] = np.where(data_by_season[idx]['Points'] < data_by_season[idx]['XXPoints'], 1, 0)"
   ]
  },
  {
   "cell_type": "code",
   "execution_count": 13,
   "id": "3a179435",
   "metadata": {},
   "outputs": [],
   "source": [
    "for idx, df in enumerate(final_by_season):\n",
    "    # Adds home team's offense ranking\n",
    "    # Adds home team's defense ranking\n",
    "    # Adds away team's offense ranking\n",
    "    # Adds away team's defense ranking\n",
    "    final_by_season[idx] = df.assign(TotalOffRank=[total_ranking(\n",
    "        data, index, seasons[idx], 'off', list(data.columns).index('HomeTeam')) for index in range(len(df))],\n",
    "                                    TotalDefRank=[total_ranking(\n",
    "        data, index, seasons[idx], 'def', list(data.columns).index('HomeTeam')) for index in range(len(df))],\n",
    "                                    XXTotalOffRank=[total_ranking(\n",
    "        data, index, seasons[idx], 'off', list(data.columns).index('XXAwayTeam')) for index in range(len(df))],\n",
    "                                    XXTotalDefRank=[total_ranking(\n",
    "        data, index, seasons[idx], 'def', list(data.columns).index('XXAwayTeam')) for index in range(len(df))])"
   ]
  },
  {
   "cell_type": "code",
   "execution_count": 14,
   "id": "dd3e9064",
   "metadata": {},
   "outputs": [],
   "source": [
    "# Adds home team's average points scored vs top 10 defenses\n",
    "# Adds home team's average points allowed vs top 10 offenses\n",
    "# Adds away team's average points scored vs top 10 defenses\n",
    "# Adds away team's average points allowed vs top 10 offenses\n",
    "for idx, df in enumerate(final_by_season):\n",
    "    final_by_season[idx] = df.assign(\n",
    "        PtsScoredTop10Def=[sched_stren(\n",
    "            df, index, list(df.columns).index('Team'))[0] for index in range(len(df))],\n",
    "        PtsAllowedTop10Off=[sched_stren(\n",
    "            df, index, list(df.columns).index('Team'))[2] for index in range(len(df))],\n",
    "        XXPtsScoredTop10Def=[sched_stren(\n",
    "            df, index, list(df.columns).index('XXTeam'))[0] for index in range(len(df))],\n",
    "        XXPtsAllowedTop10Off=[sched_stren(\n",
    "            df, index, list(df.columns).index('XXTeam'))[2] for index in range(len(df))])"
   ]
  },
  {
   "cell_type": "code",
   "execution_count": 15,
   "id": "c9e93c7e",
   "metadata": {},
   "outputs": [],
   "source": [
    "# Adds home team's W% vs top 10 defenses\n",
    "# Adds home team's W% vs top 10 offenses\n",
    "# Adds away team's W% vs top 10 defenses\n",
    "# Adds away team's W% vs top 10 offenses\n",
    "for idx, df in enumerate(final_by_season):\n",
    "    final_by_season[idx] = df.assign(\n",
    "        WinPctTop10Def=[sched_stren(\n",
    "            df, index, list(df.columns).index('Team'))[1] for index in range(len(df))],\n",
    "        WinPctTop10Off=[sched_stren(\n",
    "            df, index, list(df.columns).index('Team'))[3] for index in range(len(df))],\n",
    "        XXWinPctTop10Def=[sched_stren(\n",
    "            df, index, list(df.columns).index('XXTeam'))[1] for index in range(len(df))],\n",
    "        XXWinPctTop10Off=[sched_stren(\n",
    "            df, index, list(df.columns).index('XXTeam'))[3] for index in range(len(df))])"
   ]
  },
  {
   "cell_type": "code",
   "execution_count": 16,
   "id": "62737a33",
   "metadata": {},
   "outputs": [],
   "source": [
    "for idx, df in enumerate(final_by_season):\n",
    "    final_by_season[idx] = df.assign(\n",
    "        HomeWinPct = [win_pct(df, index, list(df.columns).index('Team'), .5)[0] for index in range(len(df))],\n",
    "        XXAwayWinPct = [win_pct(df, index, list(df.columns).index('XXTeam'), .5)[0] for index in range(len(df))],\n",
    "        PtDifvsOppTeam = [win_pct(df, index, list(df.columns).index('Team'), .5)[1] for index in range(len(df))],\n",
    "        XXPtDifvsOppTeam = [win_pct(df, index, list(df.columns).index('XXTeam'), .5)[1] for index in range(len(df))],\n",
    "        NumAwayLast5 = [win_pct(df, index, list(df.columns).index('Team'), .5)[2] for index in range(len(df))],\n",
    "        XXNumAwayLast5 = [win_pct(df, index, list(df.columns).index('XXTeam'), .5)[2] for index in range(len(df))],\n",
    "        PtDifvsTop50 = [win_pct(df, index, list(df.columns).index('Team'), .5)[3] for index in range(len(df))],\n",
    "        XXPtDifvsTop50 = [win_pct(df, index, list(df.columns).index('XXTeam'), .5)[3] for index in range(len(df))], \n",
    "        PtDifvsTop75 = [win_pct(df, index, list(df.columns).index('Team'), .75)[3] for index in range(len(df))],\n",
    "        XXPtDifvsTop75 = [win_pct(df, index, list(df.columns).index('XXTeam'), .75)[3] for index in range(len(df))])"
   ]
  },
  {
   "cell_type": "code",
   "execution_count": 17,
   "id": "6fe0260b",
   "metadata": {},
   "outputs": [],
   "source": [
    "final_df = pd.concat(final_by_season, axis=0)"
   ]
  },
  {
   "cell_type": "code",
   "execution_count": 20,
   "id": "5a0a17c9",
   "metadata": {},
   "outputs": [],
   "source": [
    "final_df.to_csv(str(Path.cwd()) + '/lineup_data/final_updated.csv')"
   ]
  },
  {
   "cell_type": "code",
   "execution_count": 3,
   "id": "2c7b3159",
   "metadata": {},
   "outputs": [],
   "source": [
    "# This function finds the rating for each player.\n",
    "def get_value(row, df):\n",
    "    if len(df.loc[(df['player_name'] == row['Starters']) & (df['season'] == row['FG%']) & (df['team'] == row['FGA']), 'rating']) == 0:\n",
    "        return -1\n",
    "    else:\n",
    "        return df.loc[(df['player_name'] == row['Starters']) & (df['season'] == row['FG%']) & (df['team'] == row['FGA']), 'rating'].item()"
   ]
  },
  {
   "cell_type": "code",
   "execution_count": 4,
   "id": "deff23ba",
   "metadata": {},
   "outputs": [],
   "source": [
    "# This function sums the adjusted raptor rating for the 5 highest rated players who played in a particular game.\n",
    "def adj_raptor(row, lineups, home_away):\n",
    "    ratings = list(lineups.loc[(lineups['FG'] == row[home_away]) & (lineups['FTA'] != ('Did Not Dress' or 'Did Not Play' or 'Not With Team' or 'Player Suspended')), 'MP'])\n",
    "    return sum(sorted(ratings, reverse=True)[:5])"
   ]
  },
  {
   "cell_type": "code",
   "execution_count": 5,
   "id": "d5f7aeff",
   "metadata": {},
   "outputs": [],
   "source": [
    "# Reading the data in here because the chunks above take a long time to run. I needed to find the running average \\\n",
    "# for each game which requires looping over every row.\n",
    "final = pd.read_csv(str(Path.cwd()) + '/lineup_data/final_updated.csv')\n",
    "final = final.drop(['Unnamed: 0'], axis=1)\n",
    "final.loc[final.Team == 'PHX', 'Team'] = 'PHO'\n",
    "final.loc[final.Team == 'BKN', 'Team'] = 'BRK'\n",
    "final.loc[final.XXTeam == 'BKN', 'XXTeam'] = 'BRK'\n",
    "final.loc[final.XXTeam == 'PHX', 'XXTeam'] = 'PHO'\n",
    "final['TeamID'] = final['Date'].str.cat(final['Team'])\n",
    "final['XXTeamID'] = final['Date'].str.cat(final['XXTeam'])"
   ]
  },
  {
   "cell_type": "code",
   "execution_count": 6,
   "id": "175f91af",
   "metadata": {},
   "outputs": [
    {
     "name": "stdout",
     "output_type": "stream",
     "text": [
      "\n",
      "\n",
      "\n",
      "\n",
      "\n",
      "\n",
      "\n",
      "\n",
      "\n"
     ]
    }
   ],
   "source": [
    "seasons = [2014, 2015, 2016, 2017, 2018, 2019, 2020, 2021, 2022]\n",
    "season_lineups = [get_season_lineups(season) for season in seasons]"
   ]
  },
  {
   "cell_type": "code",
   "execution_count": 7,
   "id": "dce38f78",
   "metadata": {},
   "outputs": [],
   "source": [
    "for i, season in enumerate(season_lineups):\n",
    "    for idx, lineup in enumerate(season):\n",
    "        season[idx] = lineup.assign(Age=seasons[i])\n",
    "        \n",
    "lineups = [lineup for season in season_lineups for lineup in season]\n",
    "lineups = pd.concat(lineups, axis=0)\n",
    "lineups[\"Unnamed: 1\"] = lineups['Unnamed: 1'].str.replace('[^\\w\\s]','', regex=True)\n",
    "lineups['Unnamed: 1'] = lineups['Unnamed: 1'].apply(unidecode)\n",
    "lineups.loc[lineups['Rk'] == 'CHO', 'Rk'] = 'CHA'"
   ]
  },
  {
   "cell_type": "code",
   "execution_count": 8,
   "id": "65c1b1d2",
   "metadata": {},
   "outputs": [],
   "source": [
    "raptor = pd.read_csv(str(Path.cwd()) + '/modern_RAPTOR_by_team.csv')\n",
    "raptor = raptor.loc[raptor['season_type'] == 'RS']\n",
    "# Here I add the absolute value of the lowest raptor rating to every rating to make them all positive.\n",
    "# This is so I can account for some players who played very few minutes having very high ratings.\n",
    "ratings = pd.DataFrame(data={'player_name': raptor['player_name'], 'season': raptor['season'], 'team': raptor['team'], 'rating': (raptor['raptor_total'] + abs(min(raptor['raptor_total']))) * raptor['mp']})\n",
    "# I divide by number of games a player played and not total number of games for their team so that players' ratings \\\n",
    "# are not determined by how healthy they were in a particular season.\n",
    "ratings['rating'] = ratings.apply(\n",
    "    lambda row: row['rating'] / lineups.loc[(lineups['Unnamed: 1'] == row['player_name']) & (lineups['Age'] == row['season']) & (lineups['Rk'] == row['team']), 'G'].item() if len(lineups.loc[(lineups['Unnamed: 1'] == row['player_name']) & (lineups['Age'] == row['season']) & (lineups['Rk'] == row['team']), 'G']) != 0 else None, axis=1)"
   ]
  },
  {
   "cell_type": "code",
   "execution_count": 13,
   "id": "582518f1",
   "metadata": {},
   "outputs": [],
   "source": [
    "data_path = str(Path.cwd()) + '/lineup_data/lineups'\n",
    "data_list = [pd.read_excel(str(file)) for file in pathlib.Path(data_path).glob('*.xlsx')]\n",
    "data_list[0].columns, data_list[1].columns, data_list[8].columns = data_list[2].columns, data_list[2].columns, data_list[2].columns\n",
    "data_list[0].drop([0, 1], axis=0, inplace=True)\n",
    "data_list[8].drop([0, 1], axis=0, inplace=True)\n",
    "# Here I format the game lineup data so that I can match each players rating and then assign that rating.\n",
    "for idx, df in enumerate(data_list):\n",
    "    data_list[idx].reset_index(drop=True, inplace=True)\n",
    "    data_list[idx].drop(['Unnamed: 0'], axis=1, inplace=True)\n",
    "    data_list[idx]['Starters'] = data_list[idx]['Starters'].str.replace('[^\\w\\s]','', regex=True)\n",
    "    data_list[idx]['Starters'] = data_list[idx]['Starters'].apply(unidecode)\n",
    "    data_list[idx]['FG'] = data_list[idx]['FG'].str.replace(r'CHO', 'CHA', regex=True)\n",
    "    data_list[idx]['FG%'] = seasons[idx]\n",
    "    data_list[idx]['MP'] = data_list[idx].apply(lambda row: get_value(row, ratings), axis=1)"
   ]
  },
  {
   "cell_type": "code",
   "execution_count": 14,
   "id": "c4a50017",
   "metadata": {},
   "outputs": [],
   "source": [
    "lineups = pd.concat(data_list, axis=0)\n",
    "final['AdjRaptor'] = final.apply(lambda row: adj_raptor(row, lineups, 'TeamID'), axis=1)\n",
    "final['XXAdjRaptor'] = final.apply(lambda row: adj_raptor(row, lineups, 'XXTeamID'), axis=1)"
   ]
  },
  {
   "cell_type": "code",
   "execution_count": 17,
   "id": "4c117616",
   "metadata": {},
   "outputs": [],
   "source": [
    "final.to_csv(str(Path.cwd()) + '/lineup_data/final_updated.csv')"
   ]
  }
 ],
 "metadata": {
  "kernelspec": {
   "display_name": "Python 3 (ipykernel)",
   "language": "python",
   "name": "python3"
  },
  "language_info": {
   "codemirror_mode": {
    "name": "ipython",
    "version": 3
   },
   "file_extension": ".py",
   "mimetype": "text/x-python",
   "name": "python",
   "nbconvert_exporter": "python",
   "pygments_lexer": "ipython3",
   "version": "3.9.12"
  }
 },
 "nbformat": 4,
 "nbformat_minor": 5
}
