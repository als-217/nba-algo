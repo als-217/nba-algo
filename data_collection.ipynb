{
 "cells": [
  {
   "cell_type": "markdown",
   "id": "e66bf9a9",
   "metadata": {},
   "source": [
    "This notebook is for collecting a cleaning data for the model."
   ]
  },
  {
   "cell_type": "code",
   "execution_count": 207,
   "id": "069cee8b",
   "metadata": {
    "scrolled": true
   },
   "outputs": [],
   "source": [
    "import pandas as pd\n",
    "from selenium import webdriver\n",
    "from csv import writer\n",
    "import datetime\n",
    "import html5lib\n",
    "from selenium.webdriver.common.by import By\n",
    "from selenium.webdriver.support.ui import WebDriverWait\n",
    "from selenium.webdriver.support import expected_conditions as EC\n",
    "from selenium.webdriver.chrome.options import Options\n",
    "from selenium.common.exceptions import TimeoutException\n",
    "from selenium.webdriver.common.action_chains import ActionChains\n",
    "from selenium.webdriver.common.keys import Keys\n",
    "from webdriver_manager.chrome import ChromeDriverManager\n",
    "from urllib.request import urlopen\n",
    "from lxml import html\n",
    "import requests\n",
    "from bs4 import BeautifulSoup, Comment\n",
    "import re\n",
    "from unidecode import unidecode\n",
    "\n",
    "chrome_options = Options()\n",
    "chrome_options.add_extension('/Users/alexstratton2121/Library/Application Support/Google/Chrome/Default/Extensions/gighmmpiobklfepjocnamgkkbiglidom/5.0.2_0.crx')"
   ]
  },
  {
   "cell_type": "code",
   "execution_count": 202,
   "id": "89e2d477",
   "metadata": {},
   "outputs": [],
   "source": [
    "def isEnglish(s):\n",
    "    try:\n",
    "        s.encode(encoding='utf-8').decode('ascii')\n",
    "    except UnicodeDecodeError:\n",
    "        return False\n",
    "    else:\n",
    "        return True"
   ]
  },
  {
   "cell_type": "code",
   "execution_count": null,
   "id": "758b1297",
   "metadata": {},
   "outputs": [],
   "source": [
    "def ev_calculator(win_prob, stake, win_odds, loss_odds):\n",
    "    winnings = (100/win_odds)*stake\n",
    "    loss_prob = 1 - win_prob\n",
    "    ev = (win_prob*winnings)-(loss_prob*stake)\n",
    "    \n",
    "    return ev"
   ]
  },
  {
   "cell_type": "markdown",
   "id": "4b16ee96",
   "metadata": {},
   "source": [
    "1. Get historical lineups from bbal reference\n",
    "2. Match player's raptor ratings with lineups\n",
    "3. "
   ]
  },
  {
   "cell_type": "code",
   "execution_count": 230,
   "id": "a710f674",
   "metadata": {},
   "outputs": [],
   "source": [
    "def get_lineups(season):\n",
    "    if season == '2020':\n",
    "        months = [\"october-2019\", \"november\", \"december\", \"january\", \n",
    "                  \"february\", \"march\", \"july\", \"august\", \"september\", \"october-2020\"]\n",
    "    elif season == '2021':\n",
    "        months = [\"december\", \"january\", \"february\", \"march\", \"april\", \"may\", \"june\", \"july\"]\n",
    "    else:\n",
    "        months = [\"october\", \"november\", \"december\", \"january\", \"february\", \"march\", \"april\"]\n",
    "        \n",
    "    lineups = []\n",
    "    \n",
    "    chrome_options = Options()\n",
    "    chrome_options.add_argument(\"--no-sandbox\")\n",
    "    chrome_options.add_argument('disable-notifications')\n",
    "    chrome_options.add_argument(\"window-size=1280,720\")\n",
    "    \n",
    "    for month in months:\n",
    "        driver = webdriver.Chrome(ChromeDriverManager().install(), options=chrome_options)\n",
    "        wait = WebDriverWait(driver, 10)\n",
    "        # Not every season starts/ends in the same month due to Covid. Hence the correct months need to be passed.\n",
    "        driver.get(\"https://www.basketball-reference.com/leagues/NBA_\"+season+\"_games-\"+month+\".html\")\n",
    "\n",
    "        wait.until(EC.element_to_be_clickable((By.XPATH, '//div[@id=\"all_schedule\"]'))).location_once_scrolled_into_view\n",
    "        games = wait.until(EC.presence_of_element_located((By.XPATH, '//table[@id=\"schedule\"]')))\n",
    "        # Getting links to the boxscore of each game\n",
    "        links = [x.get_attribute('href') for x in games.find_elements(By.TAG_NAME, 'a') if x.text == 'Box Score']\n",
    "            \n",
    "        for link in links:\n",
    "            driver.get(link)\n",
    "            wait.until(EC.element_to_be_clickable((By.XPATH, '//*[@id=\"line_score\"]/tbody/tr[1]/th/a'))).location_once_scrolled_into_view\n",
    "            teams = [str(driver.find_element(By.XPATH, '//*[@id=\"line_score\"]/tbody/tr[1]/th/a').text),\n",
    "                     str(driver.find_element(By.XPATH, '//*[@id=\"line_score\"]/tbody/tr[2]/th/a').text)]\n",
    "            r = requests.get(link)\n",
    "            soup = BeautifulSoup(r.text, 'html.parser')\n",
    "                \n",
    "            for team in teams:\n",
    "                # Getting boxscore and adding team_id into each dataframe.\n",
    "                table = soup.find(id=\"box-\"+str(team)+\"-game-basic\")\n",
    "                lineups.append(pd.read_html(table.prettify())[0])\n",
    "                lineups[len(lineups)-1].iloc[5, 0] = team\n",
    "    \n",
    "    # Some players have letters not in the English language in their name. The dataset I need to match this to \\\n",
    "    # does not have these letters. Therefore I have to find a remove them. Example: 'Nikola Vučević'\n",
    "    for lineup in lineups:\n",
    "        for player in lineup.iloc[:, 0]:\n",
    "            if isEnglish(player) == False:\n",
    "                player = unidecode(player)\n",
    "                \n",
    "    return lineups"
   ]
  },
  {
   "cell_type": "code",
   "execution_count": null,
   "id": "c664c397",
   "metadata": {},
   "outputs": [],
   "source": [
    "lineups = [get_lineups(str(2014 + i)) for i in range(8)]"
   ]
  },
  {
   "cell_type": "code",
   "execution_count": 240,
   "id": "7d897a5f",
   "metadata": {},
   "outputs": [],
   "source": [
    "raptor = pd.read_excel(\"/Users/alexstratton2121/Algo Betting/raptor_data.xlsx\")\n",
    "raptor = [raptor.loc[raptor['season'] == 2014+i] for i in range(8)]\n",
    "for year in raptor:\n",
    "    year = year.loc[year['season_type'] == \"RS\"]"
   ]
  },
  {
   "cell_type": "code",
   "execution_count": 223,
   "id": "55bae67a",
   "metadata": {},
   "outputs": [],
   "source": [
    "def match(lineups, raptor):\n",
    "    raptor_groups = raptor.groupby(by='team')\n",
    "    \n",
    "    for key, players in raptor_groups:\n",
    "        for lineup in lineups:\n",
    "            if lineup.iloc[5, 0] == key:\n",
    "                for idx, player in enumerate(lineup.iloc[:, 0]):\n",
    "                    lineup.iloc[idx, 1] = players.loc[players['player_name'] == player, 'raptor_box_total'].item()\n",
    "            else:\n",
    "                continue\n",
    "    \n",
    "    \n",
    "    return lineups"
   ]
  },
  {
   "cell_type": "code",
   "execution_count": 224,
   "id": "79e3e48d",
   "metadata": {},
   "outputs": [],
   "source": [
    "combined = [match(lineups[i], raptor[i]) for i in range(len(lineups))]"
   ]
  }
 ],
 "metadata": {
  "kernelspec": {
   "display_name": "Python 3 (ipykernel)",
   "language": "python",
   "name": "python3"
  },
  "language_info": {
   "codemirror_mode": {
    "name": "ipython",
    "version": 3
   },
   "file_extension": ".py",
   "mimetype": "text/x-python",
   "name": "python",
   "nbconvert_exporter": "python",
   "pygments_lexer": "ipython3",
   "version": "3.9.12"
  }
 },
 "nbformat": 4,
 "nbformat_minor": 5
}
