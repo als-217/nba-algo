{
 "cells": [
  {
   "cell_type": "code",
   "execution_count": 4,
   "id": "6eca4c5b",
   "metadata": {},
   "outputs": [],
   "source": [
    "import pandas as pd\n",
    "from pathlib import Path\n",
    "import sys\n",
    "import pickle\n",
    "sys.path.append('../Data_Collection_Cleaning/')\n",
    "from data_collection import get_season_lineups\n",
    "from data_collection import isLatin\n",
    "from data_collection import get_live_lineups\n",
    "from unidecode import unidecode"
   ]
  },
  {
   "cell_type": "code",
   "execution_count": null,
   "id": "47f72c3d",
   "metadata": {},
   "outputs": [],
   "source": [
    "model = pickle.load(open(filename, 'rb'))"
   ]
  },
  {
   "cell_type": "code",
   "execution_count": 5,
   "id": "3130751b",
   "metadata": {},
   "outputs": [
    {
     "name": "stdout",
     "output_type": "stream",
     "text": [
      "\n",
      "\n"
     ]
    }
   ],
   "source": [
    "raptor = pd.read_csv(str(Path.cwd()) + '/latest_RAPTOR_by_team.csv')\n",
    "season_lineups = get_season_lineups('2023')\n",
    "lineups = pd.concat(season_lineups, axis=0)\n",
    "lineups[\"Unnamed: 1\"] = lineups['Unnamed: 1'].str.replace('[^\\w\\s]','', regex=True)\n",
    "lineups['Unnamed: 1'] = lineups['Unnamed: 1'].apply(unidecode)\n",
    "lineups.loc[lineups['Rk'] == 'CHO', 'Rk'] = 'CHA'\n",
    "lineups['Age'] = 2023\n",
    "\n",
    "todays_lineups = get_live_lineups()\n",
    "ratings = pd.DataFrame(data={'player_name': raptor['player_name'], 'season': raptor['season'], 'team': raptor['team'], 'rating': (raptor['raptor_total'] + abs(min(raptor['raptor_total']))) * raptor['mp']})\n",
    "ratings['rating'] = ratings.apply(\n",
    "    lambda row: row['rating'] / lineups.loc[(lineups['Unnamed: 1'] == row['player_name']) & (lineups['Age'] == row['season']) & (lineups['Rk'] == row['team']), 'G'].item() if len(lineups.loc[(lineups['Unnamed: 1'] == row['player_name']) & (lineups['Age'] == row['season']) & (lineups['Rk'] == row['team']), 'G']) != 0 else None, axis=1)"
   ]
  }
 ],
 "metadata": {
  "kernelspec": {
   "display_name": "Python 3 (ipykernel)",
   "language": "python",
   "name": "python3"
  },
  "language_info": {
   "codemirror_mode": {
    "name": "ipython",
    "version": 3
   },
   "file_extension": ".py",
   "mimetype": "text/x-python",
   "name": "python",
   "nbconvert_exporter": "python",
   "pygments_lexer": "ipython3",
   "version": "3.9.12"
  }
 },
 "nbformat": 4,
 "nbformat_minor": 5
}
