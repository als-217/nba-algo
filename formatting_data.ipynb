{
 "cells": [
  {
   "cell_type": "code",
   "execution_count": 40,
   "id": "e0a1a324",
   "metadata": {},
   "outputs": [],
   "source": [
    "import pandas as pd\n",
    "import datetime\n",
    "import re\n",
    "\n",
    "data_path = '/Users/User/Desktop/lineup_data/'"
   ]
  },
  {
   "cell_type": "code",
   "execution_count": 28,
   "id": "7dac9f18",
   "metadata": {},
   "outputs": [],
   "source": [
    "games_data = pd.read_csv(data_path + \"cleanData.csv\")"
   ]
  },
  {
   "cell_type": "code",
   "execution_count": 29,
   "id": "1338274e",
   "metadata": {},
   "outputs": [],
   "source": [
    "games_data = games_data.loc[games_data['Season'] == '17-18']"
   ]
  },
  {
   "cell_type": "code",
   "execution_count": 30,
   "id": "fb51b208",
   "metadata": {},
   "outputs": [],
   "source": [
    "games_data.loc[games_data.HomeTeam == 'PHX', 'HomeTeam'] = 'PHO'\n",
    "games_data.loc[games_data.HomeTeam == 'BKN', 'HomeTeam'] = 'BRK'\n",
    "games_data.loc[games_data.XXAwayTeam == 'BKN', 'XXAwayTeam'] = 'BRK'\n",
    "games_data.loc[games_data.XXAwayTeam == 'PHX', 'XXAwayTeam'] = 'PHO'\n",
    "\n",
    "for idx, game in enumerate(games_data.iloc[:, 1]):\n",
    "    games_data.iloc[idx, 1] = games_data.iloc[idx, 0] + games_data.iloc[idx, 4]\n",
    "    games_data.iloc[idx, -1] = games_data.iloc[idx, 0] + games_data.iloc[idx, 125]"
   ]
  },
  {
   "cell_type": "code",
   "execution_count": 31,
   "id": "6b8cc1eb",
   "metadata": {},
   "outputs": [],
   "source": [
    "lineups = pd.read_excel('/Users/User/Desktop/lineup_data/war_lineups_2018.xlsx')"
   ]
  },
  {
   "cell_type": "code",
   "execution_count": 32,
   "id": "f360680a",
   "metadata": {},
   "outputs": [],
   "source": [
    "lineups.drop(['Unnamed: 0'], axis=1, inplace=True)\n",
    "lineups['FG'] = lineups['FG'].str.replace(r'CHO', 'CHA', regex=True)\n",
    "lineups_18 = lineups.iloc[:35897, :]\n",
    "lineups_18.reset_index(inplace=True, drop=True)"
   ]
  },
  {
   "cell_type": "code",
   "execution_count": 33,
   "id": "cc634a82",
   "metadata": {},
   "outputs": [],
   "source": [
    "for idx, stat in enumerate(lineups_18.iloc[:, 1]):\n",
    "    if type(stat) != float:\n",
    "        lineups_18.iloc[idx, 1] = -1000"
   ]
  },
  {
   "cell_type": "code",
   "execution_count": 34,
   "id": "292e7919",
   "metadata": {},
   "outputs": [],
   "source": [
    "lineups_18 = lineups_18.sort_values(by='MP', ascending=False)"
   ]
  },
  {
   "cell_type": "code",
   "execution_count": 35,
   "id": "dddd3cf5",
   "metadata": {},
   "outputs": [],
   "source": [
    "lineup_groups = lineups_18.groupby(by='FG')"
   ]
  },
  {
   "cell_type": "code",
   "execution_count": 36,
   "id": "edd107a2",
   "metadata": {},
   "outputs": [],
   "source": [
    "for key, gid in lineup_groups:\n",
    "    for idx, game in enumerate(games_data.iloc[:, 1]):\n",
    "        if game == key:\n",
    "            if gid.iloc[0, 4] == ('Did Not Dress' or 'Did Not Play' or 'Not With Team' or 'Player Suspended'):\n",
    "                games_data.iloc[idx, 2] = 0\n",
    "            else:\n",
    "                games_data.iloc[idx, 2] = 1\n",
    "            if gid.iloc[1, 4] == ('Did Not Dress' or 'Did Not Play' or 'Not With Team' or 'Player Suspended'):\n",
    "                games_data.iloc[idx, 3] = 0\n",
    "            else:\n",
    "                games_data.iloc[idx, 3] = 1\n",
    "            if gid.iloc[2, 4] == ('Did Not Dress' or 'Did Not Play' or 'Not With Team' or 'Player Suspended'):\n",
    "                games_data.iloc[idx, 4] = 0\n",
    "            else:\n",
    "                games_data.iloc[idx, 4] = 1\n",
    "            if gid.iloc[3, 4] == ('Did Not Dress' or 'Did Not Play' or 'Not With Team' or 'Player Suspended'):\n",
    "                games_data.iloc[idx, 5] = 0\n",
    "            else:\n",
    "                games_data.iloc[idx, 5] = 1\n",
    "                \n",
    "    for idx, game in enumerate(games_data.iloc[:, -1]):\n",
    "        if game == key:\n",
    "            if gid.iloc[0, 4] == ('Did Not Dress' or 'Did Not Play' or 'Not With Team'):\n",
    "                games_data.iloc[idx, -5] = 0\n",
    "            else:\n",
    "                games_data.iloc[idx, -5] = 1\n",
    "            if gid.iloc[1, 4] == ('Did Not Dress' or 'Did Not Play' or 'Not With Team'):\n",
    "                games_data.iloc[idx, -4] = 0\n",
    "            else:\n",
    "                games_data.iloc[idx, -4] = 1\n",
    "            if gid.iloc[2, 4] == ('Did Not Dress' or 'Did Not Play' or 'Not With Team'):\n",
    "                games_data.iloc[idx, -3] = 0\n",
    "            else:\n",
    "                games_data.iloc[idx, -3] = 1\n",
    "            if gid.iloc[3, 4] == ('Did Not Dress' or 'Did Not Play' or 'Not With Team'):\n",
    "                games_data.iloc[idx, -2] = 0\n",
    "            else:\n",
    "                games_data.iloc[idx, -2] = 1"
   ]
  },
  {
   "cell_type": "code",
   "execution_count": 37,
   "id": "205fdb91",
   "metadata": {},
   "outputs": [],
   "source": [
    "game_data = games_data.iloc[:, [0, 1, 2, 3, 4, 5, -1, -2, -3, -4, -5]]"
   ]
  },
  {
   "cell_type": "code",
   "execution_count": 38,
   "id": "1688e6dc",
   "metadata": {},
   "outputs": [
    {
     "name": "stderr",
     "output_type": "stream",
     "text": [
      "C:\\Users\\User\\AppData\\Local\\Temp\\ipykernel_92412\\3653594940.py:1: SettingWithCopyWarning: \n",
      "A value is trying to be set on a copy of a slice from a DataFrame\n",
      "\n",
      "See the caveats in the documentation: https://pandas.pydata.org/pandas-docs/stable/user_guide/indexing.html#returning-a-view-versus-a-copy\n",
      "  game_data.rename(columns={'GameID': 'Home_GameID', 'Season': 'Home_Missing_Player1',\n"
     ]
    }
   ],
   "source": [
    "game_data.rename(columns={'GameID': 'Home_GameID', 'Season': 'Home_Missing_Player1',\n",
    "                               'HomeAway': 'Home_Missing_Player2', 'HomeTeam': 'Home_Missing_Player3',\n",
    "                               'OffPoss': 'Home_Missing_Player4', 'XXOffensiveGoaltends': 'Away_GameId',\n",
    "                               'XXStepOutOfBoundsTurnovers': 'Away_Missing_Player1',\n",
    "                               'XX3SecondViolations': 'Away_Missing_Player2',\n",
    "                               'XXTravels': 'Away_Missing_Player3',\n",
    "                               'XXBadPassOutOfBoundsTurnovers': 'Away_Missing_Player4'}, inplace=True)"
   ]
  },
  {
   "cell_type": "code",
   "execution_count": 39,
   "id": "cbdc9e18",
   "metadata": {},
   "outputs": [],
   "source": [
    "game_data.to_excel('/Users/User/Desktop/lineup_data/game_data_2018_war.xlsx')"
   ]
  }
 ],
 "metadata": {
  "kernelspec": {
   "display_name": "Python 3 (ipykernel)",
   "language": "python",
   "name": "python3"
  },
  "language_info": {
   "codemirror_mode": {
    "name": "ipython",
    "version": 3
   },
   "file_extension": ".py",
   "mimetype": "text/x-python",
   "name": "python",
   "nbconvert_exporter": "python",
   "pygments_lexer": "ipython3",
   "version": "3.9.12"
  }
 },
 "nbformat": 4,
 "nbformat_minor": 5
}
