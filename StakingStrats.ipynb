{
 "cells": [
  {
   "cell_type": "markdown",
   "id": "e520cb0d",
   "metadata": {},
   "source": [
    "This page aims to find the best method for maximizing profit with our best model\n",
    "That can be broken down as finding the best staking strategy\n",
    "Some strategies include:\n",
    "\n",
    "1) Betting the same amount of money on the model prediction for every single game\n",
    "2) Betting the same amount of money on the model prediction for select games based on a formula (ev, others)\n",
    "3) Changing the betting amount to win the same amount of money for each bet for every single game\n",
    "4) Changing the betting amount to win the same amount of money for each bet for select games (ev, others)\n",
    "5) Betting an amount of money that depends on a formula (kelly strategy) for every game\n",
    "6) Betting an amount of money that depends on a formula (kelly strategy) for select games (ev, others)\n",
    "\n",
    "We will have to test this on the 2022 season data\n",
    "This means we will have to take the prediction of every game, the odds of every game, and the actual result of every game\n",
    "That amounts to taking the odds of the selected predictions, 'betting' a certain amount, and checking the result\n",
    "If the prediction is correct, calculate the amount won, if lost, then the amount will be the wager\n",
    "Save to a dictionary the amount won/lost for each game, and display it visually"
   ]
  },
  {
   "cell_type": "code",
   "execution_count": 6,
   "id": "e556a634",
   "metadata": {},
   "outputs": [],
   "source": [
    "import pandas as pd\n",
    "import matplotlib.pyplot as plt\n",
    "from statistics import mean\n",
    "import numpy as np\n",
    "import itertools as itr\n",
    "import collections"
   ]
  },
  {
   "cell_type": "code",
   "execution_count": 18,
   "id": "e972f64d",
   "metadata": {},
   "outputs": [
    {
     "data": {
      "text/html": [
       "<div>\n",
       "<style scoped>\n",
       "    .dataframe tbody tr th:only-of-type {\n",
       "        vertical-align: middle;\n",
       "    }\n",
       "\n",
       "    .dataframe tbody tr th {\n",
       "        vertical-align: top;\n",
       "    }\n",
       "\n",
       "    .dataframe thead th {\n",
       "        text-align: right;\n",
       "    }\n",
       "</style>\n",
       "<table border=\"1\" class=\"dataframe\">\n",
       "  <thead>\n",
       "    <tr style=\"text-align: right;\">\n",
       "      <th></th>\n",
       "      <th>Dates</th>\n",
       "      <th>MLs</th>\n",
       "      <th>Prediction</th>\n",
       "      <th>Result</th>\n",
       "    </tr>\n",
       "  </thead>\n",
       "  <tbody>\n",
       "    <tr>\n",
       "      <th>0</th>\n",
       "      <td>2013-11-07</td>\n",
       "      <td>970</td>\n",
       "      <td>0</td>\n",
       "      <td>1</td>\n",
       "    </tr>\n",
       "    <tr>\n",
       "      <th>1</th>\n",
       "      <td>2013-11-10</td>\n",
       "      <td>130</td>\n",
       "      <td>1</td>\n",
       "      <td>0</td>\n",
       "    </tr>\n",
       "    <tr>\n",
       "      <th>2</th>\n",
       "      <td>2013-11-11</td>\n",
       "      <td>-295</td>\n",
       "      <td>1</td>\n",
       "      <td>1</td>\n",
       "    </tr>\n",
       "    <tr>\n",
       "      <th>3</th>\n",
       "      <td>2013-11-13</td>\n",
       "      <td>-240</td>\n",
       "      <td>1</td>\n",
       "      <td>0</td>\n",
       "    </tr>\n",
       "    <tr>\n",
       "      <th>4</th>\n",
       "      <td>2013-11-13</td>\n",
       "      <td>-325</td>\n",
       "      <td>1</td>\n",
       "      <td>0</td>\n",
       "    </tr>\n",
       "  </tbody>\n",
       "</table>\n",
       "</div>"
      ],
      "text/plain": [
       "        Dates  MLs  Prediction  Result\n",
       "0  2013-11-07  970           0       1\n",
       "1  2013-11-10  130           1       0\n",
       "2  2013-11-11 -295           1       1\n",
       "3  2013-11-13 -240           1       0\n",
       "4  2013-11-13 -325           1       0"
      ]
     },
     "execution_count": 18,
     "metadata": {},
     "output_type": "execute_result"
    }
   ],
   "source": [
    "predictionData = pd.read_csv(r'C:\\Users\\marte\\OneDrive\\Documents\\Projects!\\NBA Model\\predictionData.csv')\n",
    "predictionData.head()"
   ]
  },
  {
   "cell_type": "code",
   "execution_count": 38,
   "id": "3ff4f53d",
   "metadata": {},
   "outputs": [],
   "source": [
    "# predictionProfits(predictionDataFrame, wagerStrategy, *wagerAmountIfConstant)\n",
    "\n",
    "def predictionProfits(df, wagerStrat, wagerAmount=100):\n",
    "    wagerPerGame = []\n",
    "    payoutDict = collections.defaultdict(list)\n",
    "    if wagerStrat == 'EveryMLSameAmount':\n",
    "        for index, row in df.iterrows():\n",
    "            if row[2] == row[3]:\n",
    "                if row[1]<0:\n",
    "                    payout = wagerAmount/abs(row[1]/100)\n",
    "                else:\n",
    "                    payout = wagerAmount*abs(row[1]/100)\n",
    "            else:\n",
    "                payout = -wagerAmount\n",
    "            payoutDict[row[0]].append(payout)\n",
    "            wagerPerGame.append(100)\n",
    "            \n",
    "    if wagerStrat == 'EveryMLToWin100':\n",
    "        for index, row in df.iterrows():\n",
    "            if row[2] == row[3]:\n",
    "                payout = 100\n",
    "            else:\n",
    "                if row[1]<0:\n",
    "                    payout = row[1]\n",
    "                    wagerPerGame.append(abs(row[1]))\n",
    "                else:\n",
    "                    payout = -(100/(row[1]/100))\n",
    "                    wagerPerGame.append(abs(payout))\n",
    "            payoutDict[row[0]].append(payout)\n",
    "            \n",
    "    return payoutDict, wagerPerGame"
   ]
  },
  {
   "cell_type": "code",
   "execution_count": 34,
   "id": "3940b64c",
   "metadata": {},
   "outputs": [],
   "source": [
    "# function will create a line graph with per day profit and cumulative profit\n",
    "\n",
    "def letsVisualize(dictionary, wagerStrat, wagerAmount=100, wagerPerGame=[]):\n",
    "    dates = list(dictionary.keys())\n",
    "    uniqueDates = [date for date in pd.unique(dates)]\n",
    "    sums = []\n",
    "    cumSum = []\n",
    "    profitPerGame = []\n",
    "    \n",
    "    # looping through dates and calculating sums\n",
    "    for i in dictionary:\n",
    "        sums.append(sum(theDict.get(i)))\n",
    "        for j in theDict.get(i):\n",
    "            profitPerGame.append(j)\n",
    "\n",
    "    cumSum = list(itr.accumulate(sums, lambda a, b: a+b))\n",
    "    \n",
    "    # plotting the data\n",
    "    plt.plot(dates,sums)\n",
    "    plt.plot(dates,cumSum)\n",
    "    plt.title('Daily and Cumulative Profits')\n",
    "    plt.xlabel('Date')\n",
    "    plt.ylabel('Profit')\n",
    "    plt.legend([\"daily\", 'cumulative'], loc =\"lower right\")\n",
    "    plt.show()\n",
    "    \n",
    "    totalProfit = round(cumSum[-1],2)\n",
    "    averageProfit = round(mean(profitPerGame),2)\n",
    "    if wagerStrat == 'EveryMLSameAmount':\n",
    "        totalWager = round(wagerAmount*len(profitPerGame),2)\n",
    "        averageWager = round(wagerAmount,2)\n",
    "    elif wagerStrat == 'EveryMLToWin100':\n",
    "        totalWager = round(sum(wagerPerGame),2)\n",
    "        averageWager = round(mean(wagerPerGame),2)\n",
    "    \n",
    "    print('Your total profit is: $'+str(totalProfit))\n",
    "    print('Your average profit per game is: $'+str(averageProfit))\n",
    "    print('Your total wager is: $'+str(totalWager))\n",
    "    print('Your average wager per game is: $'+str(averageWager))"
   ]
  },
  {
   "cell_type": "code",
   "execution_count": 40,
   "id": "ea636814",
   "metadata": {},
   "outputs": [
    {
     "data": {
      "image/png": "[encoded data removed]",
      "text/plain": [
       "<Figure size 432x288 with 1 Axes>"
      ]
     },
     "metadata": {
      "needs_background": "light"
     },
     "output_type": "display_data"
    },
    {
     "name": "stdout",
     "output_type": "stream",
     "text": [
      "Your total profit is: $158591.42\n",
      "Your average profit per game is: $64.52\n",
      "Your total wager is: $245800\n",
      "Your average wager per game is: $100\n"
     ]
    }
   ],
   "source": [
    "# STRATEGY 1\n",
    "# Take the model predictions for every game in a given day and bet the same amount on each game\n",
    "\n",
    "theDict, wagerPerGame = predictionProfits(predictionData, 'EveryMLSameAmount')\n",
    "letsVisualize(theDict, 'EveryMLSameAmount')"
   ]
  },
  {
   "cell_type": "code",
   "execution_count": null,
   "id": "d90507c7",
   "metadata": {},
   "outputs": [],
   "source": [
    "# STRATEGY 2\n",
    "# Take the model predictions for a select number of games in a given day and bet the same amount on each\n"
   ]
  },
  {
   "cell_type": "code",
   "execution_count": 35,
   "id": "d039efea",
   "metadata": {},
   "outputs": [
    {
     "data": {
      "image/png": "[encoded data removed]",
      "text/plain": [
       "<Figure size 432x288 with 1 Axes>"
      ]
     },
     "metadata": {
      "needs_background": "light"
     },
     "output_type": "display_data"
    },
    {
     "name": "stdout",
     "output_type": "stream",
     "text": [
      "Your total profit is: $-22386.31\n",
      "Your average profit per game is: $-9.11\n",
      "Your total wager is: $188086.31\n",
      "Your average wager per game is: $234.81\n"
     ]
    }
   ],
   "source": [
    "# STRATEGY 3\n",
    "# This strategy will bet a varying amount on every game predicted such that the payout is $100\n",
    "\n",
    "theDict, wagerPerGame = predictionProfits(predictionData, 'EveryMLToWin100')\n",
    "letsVisualize(theDict, 'EveryMLToWin100', wagerPerGame=wagerPerGame)"
   ]
  },
  {
   "cell_type": "code",
   "execution_count": null,
   "id": "b305f153",
   "metadata": {},
   "outputs": [],
   "source": [
    "# STRATEGY 4\n",
    "# This strategy will bet a varying amount such that the payout is $100 for a select number of games\n"
   ]
  },
  {
   "cell_type": "code",
   "execution_count": 166,
   "id": "ae0c96ee",
   "metadata": {},
   "outputs": [
    {
     "name": "stdout",
     "output_type": "stream",
     "text": [
      "1.5\n",
      "Implied probability: 0.6667\n",
      "Potential winnings: 5.0\n",
      "Percent bankroll: 0.4444\n",
      "Wager: 444.4444\n",
      "--------------------------------\n",
      "2.0\n",
      "Implied probability: 0.5\n",
      "Potential winnings: 10.0\n",
      "Percent bankroll: 0.25\n",
      "Wager: 250.0\n",
      "--------------------------------\n",
      "3.5\n",
      "Implied probability: 0.2857\n",
      "Potential winnings: 25.0\n",
      "Percent bankroll: 0.0816\n",
      "Wager: 81.6327\n",
      "--------------------------------\n",
      "2.5\n",
      "Implied probability: 0.4\n",
      "Potential winnings: 15.0\n",
      "Percent bankroll: 0.16\n",
      "Wager: 160.0\n",
      "--------------------------------\n"
     ]
    },
    {
     "data": {
      "image/png": "[encoded data removed]",
      "text/plain": [
       "<Figure size 432x288 with 1 Axes>"
      ]
     },
     "metadata": {
      "needs_background": "light"
     },
     "output_type": "display_data"
    },
    {
     "name": "stdout",
     "output_type": "stream",
     "text": [
      "Your total profit is: $416.3\n",
      "Your average profit per game is: $104.08\n",
      "Your total wager is: $936.08\n",
      "Your average wager per game is: $234.02\n"
     ]
    }
   ],
   "source": [
    "# STRATEGY 5\n",
    "# This strategy will bet a varying amount depending on a formula for every game\n",
    "wager=-1\n",
    "letsVisualize(getPayout,predictions,results,odds,wager,addValues,1000)"
   ]
  },
  {
   "cell_type": "code",
   "execution_count": null,
   "id": "8da86c1e",
   "metadata": {},
   "outputs": [],
   "source": [
    "# STRATEGY 6\n",
    "# This strategy will bet a varying amount depending on a formula for a select number of games\n"
   ]
  },
  {
   "cell_type": "code",
   "execution_count": null,
   "id": "0f7dff19",
   "metadata": {},
   "outputs": [],
   "source": [
    "# this function will determine which games we should bet on based on expected value\n",
    "def calculateEV(teamOdds, oppOdds, wager):\n",
    "    \n",
    "    if teamOdds < 0:\n",
    "        teamImpliedProbability = abs(teamOdds)/(abs(teamOdds)+100)\n",
    "        teamPayout = 100/abs(teamOdds)*wager\n",
    "    else:\n",
    "        teamImpliedProbability = 100/(teamOdds+100)\n",
    "        teamPayout = teamOdds/100*wager\n",
    "    \n",
    "    if oppOdds < 0:\n",
    "        oppImpliedProbability = abs(oppOdds)/(abs(oppOdds)+100)\n",
    "    else:\n",
    "        oppImpliedProbability = 100/(oppOdds+100)\n",
    "        \n",
    "    teamFairOdds = teamImpliedProbability/(teamImpliedProbability+oppImpliedProbability)\n",
    "    teamEV = round((teamPayout*teamFairOdds) - (wager*(1-teamFairOdds)),2)\n",
    "    \n",
    "    return teamEV\n",
    "calculateEV(-200, 150, 100)"
   ]
  }
 ],
 "metadata": {
  "kernelspec": {
   "display_name": "Python 3",
   "language": "python",
   "name": "python3"
  },
  "language_info": {
   "codemirror_mode": {
    "name": "ipython",
    "version": 3
   },
   "file_extension": ".py",
   "mimetype": "text/x-python",
   "name": "python",
   "nbconvert_exporter": "python",
   "pygments_lexer": "ipython3",
   "version": "3.8.8"
  }
 },
 "nbformat": 4,
 "nbformat_minor": 5
}
